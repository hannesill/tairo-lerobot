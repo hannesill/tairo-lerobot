{
 "cells": [
  {
   "cell_type": "markdown",
   "metadata": {},
   "source": [
    "# Train a Policy (Imitation Learning)"
   ]
  },
  {
   "cell_type": "markdown",
   "metadata": {},
   "source": [
    "## 1. Use the train script"
   ]
  },
  {
   "cell_type": "markdown",
   "metadata": {},
   "source": [
    "To train a policy to control your robot, use the python lerobot/scripts/train.py script. A few arguments are required. Here is an example command:"
   ]
  },
  {
   "cell_type": "raw",
   "metadata": {},
   "source": [
    "python lerobot/scripts/train.py \\\n",
    "  --dataset.repo_id=${HF_USER}/koch_test \\\n",
    "  --policy.type=act \\\n",
    "  --output_dir=outputs/train/act_koch_test \\\n",
    "  --job_name=act_koch_test \\\n",
    "  --device=cuda \\\n",
    "  --wandb.enable=true"
   ]
  },
  {
   "cell_type": "markdown",
   "metadata": {
    "vscode": {
     "languageId": "raw"
    }
   },
   "source": [
    "Let's explain it:\n",
    "\n",
    "* We provided the dataset as argument with --dataset.repo_id=${HF_USER}/koch_test.\n",
    "\n",
    "* We provided the policy with policy.type=act. This loads configurations from configuration_act.py. Importantly, this policy will automatically adapt to the number of motor states, motor actions and cameras of your robot (e.g. laptop and phone) which have been saved in your dataset.\n",
    "\n",
    "* We provided device=cuda since we are training on a Nvidia GPU, but you could use device=mps to train on Apple silicon.\n",
    "\n",
    "* We provided wandb.enable=true to use Weights and Biases for visualizing training plots. This is optional but if you use it, make sure you are logged in by running wandb login.\n",
    "\n",
    "\n",
    "For more information on the train script see the previous tutorial: examples/4_train_policy_with_script.md\n",
    "\n"
   ]
  },
  {
   "cell_type": "markdown",
   "metadata": {},
   "source": [
    "## 2. (Optional) Upload policy checkpoints to the hub"
   ]
  },
  {
   "cell_type": "markdown",
   "metadata": {},
   "source": [
    "Once training is done, upload the latest checkpoint with:"
   ]
  },
  {
   "cell_type": "raw",
   "metadata": {},
   "source": [
    "huggingface-cli upload ${HF_USER}/act_koch_test \\\n",
    "  outputs/train/act_koch_test/checkpoints/last/pretrained_model"
   ]
  },
  {
   "cell_type": "markdown",
   "metadata": {},
   "source": [
    "You can also upload intermediate checkpoints with:"
   ]
  },
  {
   "cell_type": "raw",
   "metadata": {
    "vscode": {
     "languageId": "raw"
    }
   },
   "source": [
    "CKPT=010000\n",
    "huggingface-cli upload ${HF_USER}/act_koch_test_${CKPT} \\\n",
    "  outputs/train/act_koch_test/checkpoints/${CKPT}/pretrained_model"
   ]
  },
  {
   "cell_type": "markdown",
   "metadata": {
    "vscode": {
     "languageId": "raw"
    }
   },
   "source": [
    "## 3. Training insights"
   ]
  },
  {
   "cell_type": "markdown",
   "metadata": {},
   "source": [
    "..."
   ]
  }
 ],
 "metadata": {
  "kernelspec": {
   "display_name": "lerobot",
   "language": "python",
   "name": "python3"
  },
  "language_info": {
   "codemirror_mode": {
    "name": "ipython",
    "version": 3
   },
   "file_extension": ".py",
   "mimetype": "text/x-python",
   "name": "python",
   "nbconvert_exporter": "python",
   "pygments_lexer": "ipython3",
   "version": "3.10.15"
  }
 },
 "nbformat": 4,
 "nbformat_minor": 2
}
